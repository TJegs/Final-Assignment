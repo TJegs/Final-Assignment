{
 "cells": [
  {
   "cell_type": "code",
   "execution_count": 1,
   "id": "84fdac77-2cd3-4393-8853-c2d682ddfbf4",
   "metadata": {},
   "outputs": [],
   "source": [
    "# Importing necessary libraries\n",
    "import pandas as pd\n",
    "from sklearn.model_selection import train_test_split\n",
    "from sklearn.preprocessing import LabelEncoder\n",
    "from sklearn.ensemble import RandomForestClassifier\n",
    "from sklearn.metrics import accuracy_score, classification_report"
   ]
  },
  {
   "cell_type": "code",
   "execution_count": 2,
   "id": "06e5dbd1-828c-46cb-96d9-27e2e8cc6aa6",
   "metadata": {},
   "outputs": [],
   "source": [
    "# Load the dataset\n",
    "data = pd.read_csv(\"Eezybuy Cleaned Data.csv\")"
   ]
  },
  {
   "cell_type": "code",
   "execution_count": 3,
   "id": "19c0ebac-fdb9-4106-b52c-3d239a38a35c",
   "metadata": {
    "scrolled": true
   },
   "outputs": [
    {
     "name": "stdout",
     "output_type": "stream",
     "text": [
      "      Age  Gender  Purchase_Frequency  Purchase_Categories  \\\n",
      "0      23       0                   0                    0   \n",
      "1      23       0                   3                    8   \n",
      "2      24       3                   0                   20   \n",
      "3      24       0                   3                    4   \n",
      "4      22       0                   1                    1   \n",
      "...   ...     ...                 ...                  ...   \n",
      "1202   60       3                   3                    8   \n",
      "1203   26       1                   0                    0   \n",
      "1204   25       1                   4                    0   \n",
      "1205   45       3                   0                    0   \n",
      "1206   12       0                   0                   12   \n",
      "\n",
      "      Personalized_Recommendation_Frequency  Browsing_Frequency  \\\n",
      "0                                         2                   1   \n",
      "1                                         2                   0   \n",
      "2                                         0                   0   \n",
      "3                                         1                   0   \n",
      "4                                         2                   0   \n",
      "...                                     ...                 ...   \n",
      "1202                                      2                   2   \n",
      "1203                                      1                   0   \n",
      "1204                                      1                   2   \n",
      "1205                                      1                   0   \n",
      "1206                                      1                   0   \n",
      "\n",
      "      Product_Search_Method  Search_Result_Exploration  \\\n",
      "0                         1                          1   \n",
      "1                         1                          1   \n",
      "2                         1                          1   \n",
      "3                         1                          0   \n",
      "4                         0                          1   \n",
      "...                     ...                        ...   \n",
      "1202                      2                          1   \n",
      "1203                      2                          1   \n",
      "1204                      3                          1   \n",
      "1205                      2                          1   \n",
      "1206                      1                          1   \n",
      "\n",
      "      Customer_Reviews_Importance  Add_to_Cart_Browsing  ...  Review_Left  \\\n",
      "0                               1                     2  ...            1   \n",
      "1                               1                     2  ...            0   \n",
      "2                               2                     2  ...            0   \n",
      "3                               5                     0  ...            1   \n",
      "4                               1                     2  ...            0   \n",
      "...                           ...                   ...  ...          ...   \n",
      "1202                            3                     2  ...            1   \n",
      "1203                            3                     0  ...            1   \n",
      "1204                            1                     0  ...            1   \n",
      "1205                            1                     2  ...            1   \n",
      "1206                            1                     2  ...            1   \n",
      "\n",
      "      Review_Reliability  Review_Helpfulness  \\\n",
      "0                      3                   2   \n",
      "1                      0                   2   \n",
      "2                      3                   0   \n",
      "3                      0                   2   \n",
      "4                      0                   2   \n",
      "...                  ...                 ...   \n",
      "1202                   3                   1   \n",
      "1203                   3                   1   \n",
      "1204                   3                   1   \n",
      "1205                   3                   1   \n",
      "1206                   3                   1   \n",
      "\n",
      "      Personalized_Recommendation_Frequency   Recommendation_Helpfulness  \\\n",
      "0                                          2                           2   \n",
      "1                                          2                           1   \n",
      "2                                          4                           0   \n",
      "3                                          3                           1   \n",
      "4                                          4                           2   \n",
      "...                                      ...                         ...   \n",
      "1202                                       3                           1   \n",
      "1203                                       3                           1   \n",
      "1204                                       3                           1   \n",
      "1205                                       2                           1   \n",
      "1206                                       2                           1   \n",
      "\n",
      "      Rating_Accuracy   Shopping_Satisfaction  Service_Appreciation  \\\n",
      "0                    1                      1                     2   \n",
      "1                    3                      2                     8   \n",
      "2                    3                      3                     2   \n",
      "3                    3                      4                     2   \n",
      "4                    2                      2                     2   \n",
      "...                ...                    ...                   ...   \n",
      "1202                 3                      4                     2   \n",
      "1203                 3                      4                     5   \n",
      "1204                 3                      3                     5   \n",
      "1205                 3                      4                     2   \n",
      "1206                 2                      3                     5   \n",
      "\n",
      "      Improvement_Areas  age_group  \n",
      "0                    11          1  \n",
      "1                    11          1  \n",
      "2                     9          1  \n",
      "3                     9          1  \n",
      "4                     9          1  \n",
      "...                 ...        ...  \n",
      "1202                  9          5  \n",
      "1203                  2          2  \n",
      "1204                  2          2  \n",
      "1205                  2          4  \n",
      "1206                 11          0  \n",
      "\n",
      "[1207 rows x 23 columns]\n"
     ]
    }
   ],
   "source": [
    "# Preprocessing\n",
    "# Convert categorical variables to numerical using LabelEncoder\n",
    "# Initialize the LabelEncoder\n",
    "label_encoder = LabelEncoder()\n",
    "\n",
    "# List the categorical columns to encode\n",
    "categorical_columns = ['Gender', 'Purchase_Frequency', 'Purchase_Categories', 'Personalized_Recommendation_Frequency',\n",
    "                       'Browsing_Frequency', 'Product_Search_Method', 'Search_Result_Exploration',\n",
    "                       'Add_to_Cart_Browsing', 'Cart_Completion_Frequency', 'Cart_Abandonment_Factors', \n",
    "                       'Saveforlater_Frequency', 'Review_Left', 'Review_Reliability', 'Review_Helpfulness',\n",
    "                       'Recommendation_Helpfulness', 'Service_Appreciation',\n",
    "                       'Improvement_Areas', 'age_group']\n",
    "\n",
    "# Encode the values of each categorical column \n",
    "for column in categorical_columns:\n",
    "    data[column] = label_encoder.fit_transform(data[column])\n",
    "\n",
    "# Print the encoded data\n",
    "print(data)"
   ]
  },
  {
   "cell_type": "code",
   "execution_count": 4,
   "id": "e8218665-cc41-4220-9300-bdf8e3239ac2",
   "metadata": {},
   "outputs": [],
   "source": [
    "# Select Target Variable: Create a binary variable indicating whether a customer made a purchase within the last month\n",
    "data['Purchase_Last_Month'] = (data['Purchase_Frequency'] == 'Multiple times a week') | (data['Purchase_Frequency'] == 'Once a week') | (data['Purchase_Frequency'] == 'Few times a week')\n",
    "\n",
    "# Feature Selection: Choose relevant features\n",
    "features = ['Age', 'Gender', 'Purchase_Categories', 'Browsing_Frequency', 'Product_Search_Method', 'Cart_Completion_Frequency', 'Review_Left', 'Shopping_Satisfaction']\n",
    "\n",
    "X = data[features] \n",
    "y = data['Purchase_Last_Month']"
   ]
  },
  {
   "cell_type": "code",
   "execution_count": 5,
   "id": "0f216705-4d3a-45ce-af66-161aeda2bdc6",
   "metadata": {},
   "outputs": [],
   "source": [
    "# Split the data into training and testing sets\n",
    "X_train, X_test, y_train, y_test = train_test_split(X, y, test_size=0.2, random_state=42)"
   ]
  },
  {
   "cell_type": "code",
   "execution_count": 6,
   "id": "153cdb0a-2091-4a4b-9c9d-3b2a551e6ad4",
   "metadata": {},
   "outputs": [],
   "source": [
    "# Model Training\n",
    "# Initialize the Random Forest classifier\n",
    "clf = RandomForestClassifier()"
   ]
  },
  {
   "cell_type": "code",
   "execution_count": 7,
   "id": "4a71ff71-c071-45f4-98ae-f98084e650b1",
   "metadata": {},
   "outputs": [
    {
     "data": {
      "text/html": [
       "<style>#sk-container-id-1 {color: black;}#sk-container-id-1 pre{padding: 0;}#sk-container-id-1 div.sk-toggleable {background-color: white;}#sk-container-id-1 label.sk-toggleable__label {cursor: pointer;display: block;width: 100%;margin-bottom: 0;padding: 0.3em;box-sizing: border-box;text-align: center;}#sk-container-id-1 label.sk-toggleable__label-arrow:before {content: \"▸\";float: left;margin-right: 0.25em;color: #696969;}#sk-container-id-1 label.sk-toggleable__label-arrow:hover:before {color: black;}#sk-container-id-1 div.sk-estimator:hover label.sk-toggleable__label-arrow:before {color: black;}#sk-container-id-1 div.sk-toggleable__content {max-height: 0;max-width: 0;overflow: hidden;text-align: left;background-color: #f0f8ff;}#sk-container-id-1 div.sk-toggleable__content pre {margin: 0.2em;color: black;border-radius: 0.25em;background-color: #f0f8ff;}#sk-container-id-1 input.sk-toggleable__control:checked~div.sk-toggleable__content {max-height: 200px;max-width: 100%;overflow: auto;}#sk-container-id-1 input.sk-toggleable__control:checked~label.sk-toggleable__label-arrow:before {content: \"▾\";}#sk-container-id-1 div.sk-estimator input.sk-toggleable__control:checked~label.sk-toggleable__label {background-color: #d4ebff;}#sk-container-id-1 div.sk-label input.sk-toggleable__control:checked~label.sk-toggleable__label {background-color: #d4ebff;}#sk-container-id-1 input.sk-hidden--visually {border: 0;clip: rect(1px 1px 1px 1px);clip: rect(1px, 1px, 1px, 1px);height: 1px;margin: -1px;overflow: hidden;padding: 0;position: absolute;width: 1px;}#sk-container-id-1 div.sk-estimator {font-family: monospace;background-color: #f0f8ff;border: 1px dotted black;border-radius: 0.25em;box-sizing: border-box;margin-bottom: 0.5em;}#sk-container-id-1 div.sk-estimator:hover {background-color: #d4ebff;}#sk-container-id-1 div.sk-parallel-item::after {content: \"\";width: 100%;border-bottom: 1px solid gray;flex-grow: 1;}#sk-container-id-1 div.sk-label:hover label.sk-toggleable__label {background-color: #d4ebff;}#sk-container-id-1 div.sk-serial::before {content: \"\";position: absolute;border-left: 1px solid gray;box-sizing: border-box;top: 0;bottom: 0;left: 50%;z-index: 0;}#sk-container-id-1 div.sk-serial {display: flex;flex-direction: column;align-items: center;background-color: white;padding-right: 0.2em;padding-left: 0.2em;position: relative;}#sk-container-id-1 div.sk-item {position: relative;z-index: 1;}#sk-container-id-1 div.sk-parallel {display: flex;align-items: stretch;justify-content: center;background-color: white;position: relative;}#sk-container-id-1 div.sk-item::before, #sk-container-id-1 div.sk-parallel-item::before {content: \"\";position: absolute;border-left: 1px solid gray;box-sizing: border-box;top: 0;bottom: 0;left: 50%;z-index: -1;}#sk-container-id-1 div.sk-parallel-item {display: flex;flex-direction: column;z-index: 1;position: relative;background-color: white;}#sk-container-id-1 div.sk-parallel-item:first-child::after {align-self: flex-end;width: 50%;}#sk-container-id-1 div.sk-parallel-item:last-child::after {align-self: flex-start;width: 50%;}#sk-container-id-1 div.sk-parallel-item:only-child::after {width: 0;}#sk-container-id-1 div.sk-dashed-wrapped {border: 1px dashed gray;margin: 0 0.4em 0.5em 0.4em;box-sizing: border-box;padding-bottom: 0.4em;background-color: white;}#sk-container-id-1 div.sk-label label {font-family: monospace;font-weight: bold;display: inline-block;line-height: 1.2em;}#sk-container-id-1 div.sk-label-container {text-align: center;}#sk-container-id-1 div.sk-container {/* jupyter's `normalize.less` sets `[hidden] { display: none; }` but bootstrap.min.css set `[hidden] { display: none !important; }` so we also need the `!important` here to be able to override the default hidden behavior on the sphinx rendered scikit-learn.org. See: https://github.com/scikit-learn/scikit-learn/issues/21755 */display: inline-block !important;position: relative;}#sk-container-id-1 div.sk-text-repr-fallback {display: none;}</style><div id=\"sk-container-id-1\" class=\"sk-top-container\"><div class=\"sk-text-repr-fallback\"><pre>RandomForestClassifier()</pre><b>In a Jupyter environment, please rerun this cell to show the HTML representation or trust the notebook. <br />On GitHub, the HTML representation is unable to render, please try loading this page with nbviewer.org.</b></div><div class=\"sk-container\" hidden><div class=\"sk-item\"><div class=\"sk-estimator sk-toggleable\"><input class=\"sk-toggleable__control sk-hidden--visually\" id=\"sk-estimator-id-1\" type=\"checkbox\" checked><label for=\"sk-estimator-id-1\" class=\"sk-toggleable__label sk-toggleable__label-arrow\">RandomForestClassifier</label><div class=\"sk-toggleable__content\"><pre>RandomForestClassifier()</pre></div></div></div></div></div>"
      ],
      "text/plain": [
       "RandomForestClassifier()"
      ]
     },
     "execution_count": 7,
     "metadata": {},
     "output_type": "execute_result"
    }
   ],
   "source": [
    "# Train the classifier\n",
    "clf.fit(X_train, y_train)"
   ]
  },
  {
   "cell_type": "code",
   "execution_count": 8,
   "id": "563cfcdd-ca82-4d5f-9804-4e8364210f3d",
   "metadata": {},
   "outputs": [],
   "source": [
    "# Model Evaluation\n",
    "# Make predictions on the test data\n",
    "y_pred = clf.predict(X_test)"
   ]
  },
  {
   "cell_type": "code",
   "execution_count": 9,
   "id": "7baf0c0e-7597-43d7-9215-c7d5dc3f8a12",
   "metadata": {},
   "outputs": [
    {
     "name": "stdout",
     "output_type": "stream",
     "text": [
      "Accuracy: 1.0\n",
      "              precision    recall  f1-score   support\n",
      "\n",
      "       False       1.00      1.00      1.00       242\n",
      "\n",
      "    accuracy                           1.00       242\n",
      "   macro avg       1.00      1.00      1.00       242\n",
      "weighted avg       1.00      1.00      1.00       242\n",
      "\n"
     ]
    }
   ],
   "source": [
    "# Evaluate the model's performance\n",
    "accuracy = accuracy_score(y_test, y_pred)\n",
    "print(\"Accuracy:\", accuracy)\n",
    "\n",
    "# Print classification report\n",
    "print(classification_report(y_test, y_pred))"
   ]
  },
  {
   "cell_type": "code",
   "execution_count": 24,
   "id": "ef39942d-ee6a-4b6a-8979-25cd98eea8eb",
   "metadata": {
    "tags": []
   },
   "outputs": [],
   "source": [
    "from sklearn.metrics import confusion_matrix\n",
    "import seaborn as sns\n",
    "import matplotlib.pyplot as plt"
   ]
  },
  {
   "cell_type": "code",
   "execution_count": 26,
   "id": "e4c17d0c-b610-448c-83d1-18fdd6140ee5",
   "metadata": {
    "tags": []
   },
   "outputs": [
    {
     "data": {
      "image/png": "[encoded data removed]",
      "text/plain": [
       "<Figure size 800x600 with 1 Axes>"
      ]
     },
     "metadata": {},
     "output_type": "display_data"
    }
   ],
   "source": [
    "# True labels\n",
    "true_labels = ['False'] * 242\n",
    "\n",
    "# Predicted labels\n",
    "predicted_labels = ['False'] * 242\n",
    "\n",
    "# Compute confusion matrix\n",
    "cm = confusion_matrix(true_labels, predicted_labels)\n",
    "\n",
    "# Plot confusion matrix\n",
    "plt.figure(figsize=(8, 6))\n",
    "sns.heatmap(cm, annot=True, cmap='Blues', fmt='g', cbar=False)\n",
    "plt.xlabel('Predicted labels')\n",
    "plt.ylabel('True labels')\n",
    "plt.title('Confusion Matrix')\n",
    "plt.show()"
   ]
  },
  {
   "cell_type": "code",
   "execution_count": 28,
   "id": "bf5db99e-4dee-49a5-8fd8-3ba0bf81978f",
   "metadata": {},
   "outputs": [
    {
     "name": "stdout",
     "output_type": "stream",
     "text": [
      "Model saved successfully.\n"
     ]
    }
   ],
   "source": [
    "# Save the trained model to a file named 'trained_model.pkl'\n",
    "import joblib\n",
    "joblib.dump(clf, 'trained_model')\n",
    "\n",
    "print(\"Model saved successfully.\")"
   ]
  }
 ],
 "metadata": {
  "kernelspec": {
   "display_name": "Python 3 (ipykernel)",
   "language": "python",
   "name": "python3"
  },
  "language_info": {
   "codemirror_mode": {
    "name": "ipython",
    "version": 3
   },
   "file_extension": ".py",
   "mimetype": "text/x-python",
   "name": "python",
   "nbconvert_exporter": "python",
   "pygments_lexer": "ipython3",
   "version": "3.11.5"
  }
 },
 "nbformat": 4,
 "nbformat_minor": 5
}
